{
 "cells": [
  {
   "cell_type": "code",
   "execution_count": 1,
   "metadata": {
    "collapsed": false
   },
   "outputs": [
    {
     "name": "stdout",
     "output_type": "stream",
     "text": [
      "91\n"
     ]
    }
   ],
   "source": [
    "from sklearn import datasets, svm\n",
    "from sklearn.model_selection import train_test_split\n",
    "from sklearn.metrics import confusion_matrix\n",
    "from sklearn.metrics import accuracy_score\n",
    "import numpy as np\n",
    "from sklearn.preprocessing import LabelEncoder\n",
    "import pandas as pd\n",
    "\n",
    "\n",
    "hearttrain=pd.read_csv(\"Heart.csv\")\n",
    "#print(type(hearttrain))\n",
    "\n",
    "X = hearttrain\n",
    "X=X.drop(X.columns[[0, 14]], axis=1)\n",
    "y=hearttrain['AHD']\n",
    "\n",
    "#X=list(X)\n",
    "#y=list(y)\n",
    "\n",
    "y=y.replace(['Yes', 'No'], [1, -1])\n",
    "\n",
    "#X=pd.factorize(X[\"ChestPain\"])\n",
    "\n",
    "lb_make = LabelEncoder()\n",
    "X[\"ChestPain\"] = lb_make.fit_transform(X[\"ChestPain\"])\n",
    "#X[\"Thal\"] = lb_make.fit_transform(X[\"Thal\"])\n",
    "\n",
    "\n",
    "temp = pd.get_dummies(pd.Series(X[\"Thal\"]))\n",
    "X=pd.concat([X,temp],axis=1)\n",
    "X=X.drop([\"Thal\"],axis=1)\n",
    "\n",
    "X=X.fillna(X.median())\n",
    "\n",
    "#print(X.head())\n",
    "#ect=[]\n",
    "#for column in vect:\n",
    "#    temp=pd.get_dummies(pd.Series(df[column])\n",
    "#    df=pd.concat([df,temp],axis=1)\n",
    "#    df=df.drop([column],axis=1)\n",
    "\n",
    "X_train, X_test, y_train, y_test = train_test_split(X, y, test_size=0.3,random_state=0) \n",
    "\n",
    "\n",
    "svc_linear = svm.SVC(kernel='linear', C=1)\n",
    "\n"
   ]
  },
  {
   "cell_type": "code",
   "execution_count": 23,
   "metadata": {
    "collapsed": false
   },
   "outputs": [
    {
     "data": {
      "text/plain": [
       "212"
      ]
     },
     "execution_count": 23,
     "metadata": {},
     "output_type": "execute_result"
    }
   ],
   "source": [
    "T=10\n",
    "dm=np.repeat(1/len(X_train), len(X_train), axis=0)\n",
    "svc_linear.fit(X_train, y_train,sample_weight=dm)\n",
    "predicted= svc_linear.predict(X_test)\n",
    "\n",
    "#print((predicted))\n",
    "#print (dm)\n",
    "#X\n",
    "len(X_train)"
   ]
  },
  {
   "cell_type": "code",
   "execution_count": 38,
   "metadata": {
    "collapsed": false
   },
   "outputs": [
    {
     "data": {
      "text/plain": [
       "[1,\n",
       " 1,\n",
       " 0,\n",
       " 0,\n",
       " 1,\n",
       " 0,\n",
       " 0,\n",
       " 1,\n",
       " 0,\n",
       " 1,\n",
       " 1,\n",
       " 1,\n",
       " 0,\n",
       " 0,\n",
       " 1,\n",
       " 1,\n",
       " 1,\n",
       " 1,\n",
       " 1,\n",
       " 0,\n",
       " 1,\n",
       " 1,\n",
       " 1,\n",
       " 0,\n",
       " 1,\n",
       " 1,\n",
       " 1,\n",
       " 0,\n",
       " 0,\n",
       " 0,\n",
       " 0,\n",
       " 1,\n",
       " 1,\n",
       " 1,\n",
       " 1,\n",
       " 1,\n",
       " 1,\n",
       " 0,\n",
       " 1,\n",
       " 1,\n",
       " 1,\n",
       " 0,\n",
       " 1,\n",
       " 1,\n",
       " 1,\n",
       " 1,\n",
       " 1,\n",
       " 1,\n",
       " 1,\n",
       " 1,\n",
       " 1,\n",
       " 1,\n",
       " 1,\n",
       " 1,\n",
       " 1,\n",
       " 1,\n",
       " 0,\n",
       " 1,\n",
       " 1,\n",
       " 0,\n",
       " 1,\n",
       " 1,\n",
       " 0,\n",
       " 0,\n",
       " 0,\n",
       " 1,\n",
       " 0,\n",
       " 0,\n",
       " 0,\n",
       " 1,\n",
       " 1,\n",
       " 0,\n",
       " 1,\n",
       " 0,\n",
       " 0,\n",
       " 0,\n",
       " 1,\n",
       " 1,\n",
       " 0,\n",
       " 1,\n",
       " 1,\n",
       " 0,\n",
       " 1,\n",
       " 1,\n",
       " 0,\n",
       " 1,\n",
       " 1,\n",
       " 1,\n",
       " 0,\n",
       " 0,\n",
       " 1]"
      ]
     },
     "execution_count": 38,
     "metadata": {},
     "output_type": "execute_result"
    }
   ],
   "source": [
    "alpha=[]\n",
    "pred=[]\n",
    "testpred=[]\n",
    "for t in range(10):\n",
    "    svc_linear.fit(X_train, y_train,sample_weight=dm)\n",
    "    predicted_train=(svc_linear.predict(X_train))\n",
    "    predicted_test=(svc_linear.predict(X_test))\n",
    "    testpred.append(predicted_test)\n",
    "    pred.append(predicted)\n",
    "    err=0\n",
    "    for i in range(len(X_train)):\n",
    "        if (pred[t][i] == y_train.values[i]):\n",
    "            err+=dm[i]\n",
    "    alpha.append(np.divide(np.log((1-err)/err),2))\n",
    "    Z=[]\n",
    "    for i in range(len(X_train)):\n",
    "        Z.append(dm[i] * np.exp((-alpha[t])*y_train.values[i] * predicted[i]))\n",
    "    \n",
    "    dm=[Z[i] / sum(Z) for i in range(len(X_train))]\n",
    "\n",
    "ada_predicts=0\n",
    "for t in range(10):\n",
    "    ada_predicts+=(alpha[t] * testpred[t] ) \n",
    "    \n",
    "y_preds=[]\n",
    "for i in range(len(y_test)):\n",
    "    if (ada_predicts[i] > 0):\n",
    "        y_preds.append(1)\n",
    "    else:\n",
    "        y_preds.append(0)\n",
    "\n",
    "y_preds"
   ]
  },
  {
   "cell_type": "code",
   "execution_count": null,
   "metadata": {
    "collapsed": true
   },
   "outputs": [],
   "source": []
  }
 ],
 "metadata": {
  "kernelspec": {
   "display_name": "Python 3",
   "language": "python",
   "name": "python3"
  },
  "language_info": {
   "codemirror_mode": {
    "name": "ipython",
    "version": 3
   },
   "file_extension": ".py",
   "mimetype": "text/x-python",
   "name": "python",
   "nbconvert_exporter": "python",
   "pygments_lexer": "ipython3",
   "version": "3.6.0"
  }
 },
 "nbformat": 4,
 "nbformat_minor": 2
}
