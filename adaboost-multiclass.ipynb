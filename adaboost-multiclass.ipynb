{
 "cells": [
  {
   "cell_type": "code",
   "execution_count": 6,
   "metadata": {
    "collapsed": true
   },
   "outputs": [],
   "source": [
    "from sklearn import datasets, svm\n",
    "from sklearn.model_selection import train_test_split\n",
    "from sklearn.metrics import confusion_matrix\n",
    "from sklearn.metrics import accuracy_score\n",
    "import numpy as np\n",
    "from sklearn.preprocessing import LabelEncoder\n",
    "import pandas as pd\n"
   ]
  },
  {
   "cell_type": "code",
   "execution_count": 7,
   "metadata": {
    "collapsed": false
   },
   "outputs": [
    {
     "name": "stderr",
     "output_type": "stream",
     "text": [
      "/home/disha/anaconda3/lib/python3.6/site-packages/ipykernel/__main__.py:13: FutureWarning: convert_objects is deprecated.  Use the data-type specific converters pd.to_datetime, pd.to_timedelta and pd.to_numeric.\n"
     ]
    }
   ],
   "source": [
    "wine=pd.read_csv(\"wine.scale\",header=None,sep='\\s+')\n",
    "#print(wine)\n",
    "for i in range(9):\n",
    "    wine[i+1] = wine[i+1].str[2:]\n",
    "ints=[10, 11, 12, 13]\n",
    "for idx, val in enumerate(ints):\n",
    "    wine[val] = wine[val].str[3:]\n",
    "\n",
    "#for i in range(14):\n",
    "    #print(wine[10])\n",
    "#    wine[i] = wine[i].astype(float)\n",
    "\n",
    "wine = wine.convert_objects(convert_numeric=True)\n",
    "#wine"
   ]
  },
  {
   "cell_type": "code",
   "execution_count": 10,
   "metadata": {
    "collapsed": false
   },
   "outputs": [],
   "source": [
    "wine.to_csv(\"wine.csv\", sep=',')"
   ]
  },
  {
   "cell_type": "code",
   "execution_count": 11,
   "metadata": {
    "collapsed": false
   },
   "outputs": [
    {
     "data": {
      "text/plain": [
       "0      1\n",
       "1      1\n",
       "2      1\n",
       "3      1\n",
       "4      1\n",
       "5      1\n",
       "6      1\n",
       "7      1\n",
       "8      1\n",
       "9      1\n",
       "10     1\n",
       "11     1\n",
       "12     1\n",
       "13     1\n",
       "14     1\n",
       "15     1\n",
       "16     1\n",
       "17     1\n",
       "18     1\n",
       "19     1\n",
       "20     1\n",
       "21     1\n",
       "22     1\n",
       "23     1\n",
       "24     1\n",
       "25     1\n",
       "26     1\n",
       "27     1\n",
       "28     1\n",
       "29     1\n",
       "      ..\n",
       "148    3\n",
       "149    3\n",
       "150    3\n",
       "151    3\n",
       "152    3\n",
       "153    3\n",
       "154    3\n",
       "155    3\n",
       "156    3\n",
       "157    3\n",
       "158    3\n",
       "159    3\n",
       "160    3\n",
       "161    3\n",
       "162    3\n",
       "163    3\n",
       "164    3\n",
       "165    3\n",
       "166    3\n",
       "167    3\n",
       "168    3\n",
       "169    3\n",
       "170    3\n",
       "171    3\n",
       "172    3\n",
       "173    3\n",
       "174    3\n",
       "175    3\n",
       "176    3\n",
       "177    3\n",
       "Name: 0, dtype: int64"
      ]
     },
     "execution_count": 11,
     "metadata": {},
     "output_type": "execute_result"
    }
   ],
   "source": [
    "X = wine\n",
    "X=X.drop(X.columns[[0]], axis=1)\n",
    "y=wine[0]\n",
    "X=X.fillna(X.median())\n",
    "y"
   ]
  },
  {
   "cell_type": "code",
   "execution_count": 87,
   "metadata": {
    "collapsed": false
   },
   "outputs": [],
   "source": [
    "###split train test\n",
    "X_train, X_test, y_train, y_test = train_test_split(X, y, test_size=0.3,random_state=0) \n",
    "\n",
    "###build linear SVM\n",
    "svc_rbf = svm.SVC(kernel='rbf', gamma=0.03,C=3)\n",
    "#svc_multiclass=OneVsRestClassifier(LinearSVC(random_state=0))\n",
    "#svc_multiclass.fit(X_train, y_train).predict(X_train)\n",
    "#len(y_test)"
   ]
  },
  {
   "cell_type": "code",
   "execution_count": 88,
   "metadata": {
    "collapsed": false
   },
   "outputs": [],
   "source": [
    "###set max iterations T\n",
    "T=25\n",
    "\n",
    "#initialize sample weights\n",
    "dm=np.repeat(1/len(X_train), len(X_train), axis=0)\n",
    "#svc_linear.fit(X_train, y_train,sample_weight=dm)\n",
    "\n",
    "#predict with initialized weights\n",
    "predicted= svc_rbf.fit(X_train, y_train,sample_weight=dm).predict(X_test)\n",
    "\n",
    "#print((predicted))\n",
    "#print (dm)\n",
    "#X\n",
    "#np.where(predicted==2)[0].tolist()"
   ]
  },
  {
   "cell_type": "code",
   "execution_count": 89,
   "metadata": {
    "collapsed": false
   },
   "outputs": [],
   "source": [
    "###aplha parameter from adaboost algorith \n",
    "alpha=[]\n",
    "\n",
    "###list to store predictions\n",
    "pred=[]\n",
    "\n",
    "###list to store test vector predictions\n",
    "testpred=[]\n",
    "\n",
    "###define number of classes\n",
    "classes=3\n",
    "\n",
    "###initialize the cost vector for class imbalance\n",
    "#cost=np.random.uniform(0,1,3).tolist()\n",
    "#cost=[]\n",
    "#for i in range(classes):\n",
    "#    cost.append(np.random.uniform(0,1,1).tolist())\n",
    "    \n",
    "\n",
    "###run adabosst multiclass with cost vector to each class\n",
    "for t in range(T):\n",
    "    #print(t)\n",
    "    svc_rbf = svm.SVC(kernel='rbf', gamma=0.03,C=3)\n",
    "    #fit a linear svm with weights dm\n",
    "    svc_rbf.fit(X_train, y_train,sample_weight=dm)\n",
    "    \n",
    "    #predict train values\n",
    "    predicted_train=(svc_rbf.predict(X_train))\n",
    "    \n",
    "    #predict test values\n",
    "    predicted_test=(svc_rbf.predict(X_test))\n",
    "    \n",
    "    #store predicted test values\n",
    "    testpred.append(predicted_test)\n",
    "    \n",
    "    #store predicted train values\n",
    "    pred.append(predicted_train)\n",
    "    \n",
    "    #initially for each iteration error==0\n",
    "    err=0\n",
    "    \n",
    "    #for each example in test predictions check misclassification\n",
    "    for i in range(len(X_test)):\n",
    "        if (testpred[t][i] != y_test.values[i]):\n",
    "            y=y_train.values[i]\n",
    "            err+=dm[i] #* cost[y-1]\n",
    "    #calculate alpha wth err value and classes\n",
    "    alpha.append(np.log((1-err)/err) + np.log(classes-1))\n",
    "    \n",
    "    #calculate Z value for normaliztion\n",
    "    Z=[]\n",
    "    #print(err)\n",
    "    for i in range(len(X_train)):\n",
    "        Z.append(dm[i] * np.exp((-alpha[t])*y_train.values[i] * predicted_train[i]))\n",
    "    \n",
    "    #update the weights\n",
    "    dm=[Z[i] / sum(Z) for i in range(len(X_train))]\n",
    "\n",
    "#initialize the adaboost ensemble otput for each class\n",
    "ada_class=[]\n",
    "\n",
    "#run for loop for number of classes\n",
    "for k in range(classes):\n",
    "    \n",
    "    #initialize predictions for each test vector\n",
    "    ada_class_pred=[]\n",
    "    \n",
    "    #for each test vector \n",
    "    for i in range(len(testpred[t])):\n",
    "        \n",
    "        #initialize the adaboost output as zero for each class\n",
    "        ada_predicts=0\n",
    "        #calculate the adaboost predicted value across t generations.this is a scalar\n",
    "        for t in range(10):\n",
    "            vec=testpred[t]\n",
    "            al=alpha[t]\n",
    "            if (vec[i]==k+1):\n",
    "                ada_predicts+=(al *1)\n",
    "            else:\n",
    "                ada_predicts+=(al *0)              \n",
    "        ada_class_pred.append(ada_predicts)\n",
    "    #predictions of each test vector across classes\n",
    "    ada_class.append(ada_class_pred)\n"
   ]
  },
  {
   "cell_type": "code",
   "execution_count": 90,
   "metadata": {
    "collapsed": false
   },
   "outputs": [],
   "source": [
    "#ada_class\n",
    "#use vstack for better handling\n",
    "adaclass_array=np.vstack(ada_class)\n",
    "#initialize final pprediction\n",
    "y_preds=[]\n",
    "#for each test vector\n",
    "for i in range(len(y_test)):\n",
    "    #see for which class is adaboost prediction the maximum...and return that class\n",
    "    y_preds.append(np.where(adaclass_array[:,i]==np.max(adaclass_array[:,i]))[0].tolist()[0]  + 1) #plus one because outputs as 1,2,3 needed\n",
    "#y_preds\n"
   ]
  },
  {
   "cell_type": "code",
   "execution_count": 91,
   "metadata": {
    "collapsed": false
   },
   "outputs": [
    {
     "data": {
      "text/plain": [
       "[1,\n",
       " 1,\n",
       " 1,\n",
       " 1,\n",
       " 1,\n",
       " 1,\n",
       " 1,\n",
       " 1,\n",
       " 1,\n",
       " 1,\n",
       " 1,\n",
       " 1,\n",
       " 1,\n",
       " 1,\n",
       " 1,\n",
       " 1,\n",
       " 1,\n",
       " 1,\n",
       " 1,\n",
       " 1,\n",
       " 1,\n",
       " 1,\n",
       " 1,\n",
       " 1,\n",
       " 1,\n",
       " 1,\n",
       " 1,\n",
       " 1,\n",
       " 1,\n",
       " 1,\n",
       " 1,\n",
       " 1,\n",
       " 1,\n",
       " 1,\n",
       " 1,\n",
       " 1,\n",
       " 1,\n",
       " 1,\n",
       " 1,\n",
       " 1,\n",
       " 1,\n",
       " 1,\n",
       " 1,\n",
       " 1,\n",
       " 1,\n",
       " 1,\n",
       " 1,\n",
       " 1,\n",
       " 1,\n",
       " 1,\n",
       " 1,\n",
       " 1,\n",
       " 1,\n",
       " 1]"
      ]
     },
     "execution_count": 91,
     "metadata": {},
     "output_type": "execute_result"
    }
   ],
   "source": [
    "y_preds"
   ]
  },
  {
   "cell_type": "code",
   "execution_count": 92,
   "metadata": {
    "collapsed": false
   },
   "outputs": [
    {
     "data": {
      "text/plain": [
       "54"
      ]
     },
     "execution_count": 92,
     "metadata": {},
     "output_type": "execute_result"
    }
   ],
   "source": [
    "len(y_preds)"
   ]
  },
  {
   "cell_type": "code",
   "execution_count": 93,
   "metadata": {
    "collapsed": false
   },
   "outputs": [
    {
     "data": {
      "text/plain": [
       "0.19"
      ]
     },
     "execution_count": 93,
     "metadata": {},
     "output_type": "execute_result"
    }
   ],
   "source": [
    "y=y_test.tolist() \n",
    "acc=0\n",
    "for i in range(len(y)):\n",
    "    if(y[i] == y_preds[i]):\n",
    "        acc+=1\n",
    "accuracy=acc/100\n",
    "\n",
    "accuracy"
   ]
  },
  {
   "cell_type": "code",
   "execution_count": null,
   "metadata": {
    "collapsed": true
   },
   "outputs": [],
   "source": []
  }
 ],
 "metadata": {
  "kernelspec": {
   "display_name": "Python 3",
   "language": "python",
   "name": "python3"
  },
  "language_info": {
   "codemirror_mode": {
    "name": "ipython",
    "version": 3
   },
   "file_extension": ".py",
   "mimetype": "text/x-python",
   "name": "python",
   "nbconvert_exporter": "python",
   "pygments_lexer": "ipython3",
   "version": "3.6.0"
  }
 },
 "nbformat": 4,
 "nbformat_minor": 2
}
